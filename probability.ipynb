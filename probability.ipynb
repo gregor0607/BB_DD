{
 "cells": [
  {
   "cell_type": "markdown",
   "metadata": {},
   "source": [
    "## Probability: a quasi-rigorous treatment"
   ]
  },
  {
   "cell_type": "markdown",
   "metadata": {},
   "source": [
    "The notebook below contains more precise presentation of concepts related to probability theory. It is an extension of [**this article**](https://www.evernote.com/l/AMdCavKzLtBE67e7p8bsDBOOxKg_QVsgzxY)."
   ]
  },
  {
   "cell_type": "markdown",
   "metadata": {},
   "source": [
    "__Problem #1:__  \n",
    "We will begin with a classical problem in probability textbooks (and supposedly real life). What is the probability of rolling 6 with a fair, six-sided die? We may write: $P(6)=\\frac{1}{6}$.  \n",
    "Let's start by clarifying what does the notation $P(6)=\\frac{1}{6}$ even mean? First of all, we can generalize that and in our case write:\n",
    "\\begin{align}\n",
    "P(A)=\\frac{1}{6}.\n",
    "\\end{align}\n",
    "\n",
    "where $A$ is one of the possible events in the **sample space** $S$ (sometimes represented as $\\Omega$).  For a six-sided die it is easy to see that the sample space consists of 6 possible outcomes (events), that is: $\\{1, 2, 3, 4, 5, 6\\}$. Alright, so A is an event from sample space. What is $P(A)$ then? It is a probability [**function**](https://www.evernote.com/l/AMe7VVWXocBJsZ7Df8pSMMoxgm55NVavqk8) that takes an event $A \\subseteq S$ and outputs a number between 0 and 1. The probability function, sample space and events make **probability space (probability triple)**."
   ]
  },
  {
   "cell_type": "markdown",
   "metadata": {},
   "source": [
    "Ok, so me may simply say that for a fair die the sample space constits of six possible outcomes and the probability function \"assigns\" equal values to all the outcomes (to understand what does it mean to \"assign\" check the concept of a **random variable** ). Because the assigned values are equal that means that the distribution from, which we sample is **uniform (and discrete)**. Strictly speaking the function *maps* events to nummbers in the interval [0,1]."
   ]
  },
  {
   "cell_type": "markdown",
   "metadata": {},
   "source": [
    "The idea of a sample space and an event also gives us a hint how the probability of an event can be calculated from a **frequentist** point of view. It is basically the number of ways that a particular event may occur over the number of all possible outcomes. Thus in the case of a singe die roll we have $P(6)=\\frac{1\\text{ (one way to throw six)}}{6\\text{ (six possible outcomes)}}$. If we throw two dies and we want to calculate the probability of rolling two sixes then it will be the number of ways we can roll two sixes (which is also 1, i.e. there is one way we can do that; see: [**Leibniz mistake**](https://www.evernote.com/shard/s199/nl/22920045/8d354e58-43b4-45c6-b0e0-07728d2c530d/)) over all the possible outcomes, which in that case is 36. Thus, the probability of rolling two sixes equals: $P(6, 6)=\\frac{1}{36}$"
   ]
  },
  {
   "cell_type": "markdown",
   "metadata": {},
   "source": [
    "There is also another thing that we might have noticed. The probability function takes an event $A \\subseteq S$ and outputs a number between 0 and 1. That hints about one of the fundemental **axioms** of probability theory. The axioms and properties listed below were proposed in 1933 by Andrey Kolmogorow."
   ]
  },
  {
   "cell_type": "markdown",
   "metadata": {},
   "source": [
    "**Axioms**:\n",
    "\\begin{align}\n",
    "P(S)=1.\n",
    "\\end{align}\n",
    "and\n",
    "\\begin{align}\n",
    "P(\\emptyset)=0.\n",
    "\\end{align}\n",
    "thus:\n",
    "\\begin{align}\n",
    "0\\leq P(A)\\leq1.\n",
    "\\end{align}\n",
    "which basically means that probality of any outcome (event) is equal to 1, whereas probability that nothing happens is 0. In other words something always happens. If you throw a die it there will be an outcome. Unfortunately, there are such concepts as **almost surely and almost never**, but for now we will not bother with these nuances.\n",
    "We can also say that [probability behaves like mass](https://www.evernote.com/l/AMdCavKzLtBE67e7p8bsDBOOxKg_QVsgzxY)."
   ]
  },
  {
   "cell_type": "markdown",
   "metadata": {},
   "source": [
    "Another axiom says that mutually exclusive (disjoint) events $(A_1, A_2, ...)$ give the following equation:\n",
    "$P(\\bigcup\\limits_{i=1}^{\\infty})=\\sum\\limits_{i=1}^{\\infty}P(A_j)$. Looks complicated, right? It is actually pretty simple, but the symbolic language of mathematics tends to obscure the simplicity. It is bascially saying that if one even excludes another (think: I cannot throw 6 AND 5 in one throw) then the probability that you have $A_1$ **or** $A_2$ **or** other events (which is given by the union sign $\\bigcup$) is equal to sum ($\\sum$: sigma sign) of probabilities of the events. That is let's say what is the probability that you throw 5 **or** 6. That is nothing more but $P(5)+P(6)=\\frac{1}{3}$. "
   ]
  }
 ],
 "metadata": {
  "kernelspec": {
   "display_name": "Python 3",
   "language": "python",
   "name": "python3"
  },
  "language_info": {
   "codemirror_mode": {
    "name": "ipython",
    "version": 3
   },
   "file_extension": ".py",
   "mimetype": "text/x-python",
   "name": "python",
   "nbconvert_exporter": "python",
   "pygments_lexer": "ipython3",
   "version": "3.7.0"
  }
 },
 "nbformat": 4,
 "nbformat_minor": 2
}
