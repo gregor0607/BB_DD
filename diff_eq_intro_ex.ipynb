{
 "cells": [
  {
   "cell_type": "markdown",
   "metadata": {},
   "source": [
    "## Differential equations - intuition through examples"
   ]
  },
  {
   "cell_type": "code",
   "execution_count": 18,
   "metadata": {},
   "outputs": [],
   "source": [
    "import numpy as np\n",
    "import pandas as pd\n",
    "\n",
    "import altair as alt"
   ]
  },
  {
   "cell_type": "markdown",
   "metadata": {},
   "source": [
    "### Newton law of cooling"
   ]
  },
  {
   "cell_type": "markdown",
   "metadata": {},
   "source": [
    "Before we begin, we may ask, why it is a law of COOLING? When something cools down, something must heat up right? When two objects are in thermal equillibrium then of course neither of them is changing temperature. But if one is colder than it will \"take\" the heat (thermal energy) from the hotter body. The first will heat up and the second will cool down. So why COOLING. Because generally (and especially in Newton times) it is easier to heat an object and observe/measure how it cools down. Plus, there there is theoretically no physical limit to heat a body whil at room temperature you have less than 300 K (or $300^{\\circ}\\text{C}$) to go down. But be cautious with this explanation when you are using a cup of coffee as an example. In that case the coffee is one object and the surrounding (let's say you're in a park) is another. Do you really think that the park will get hotter because of you coffee. In the language of thermodynamics we call the park the **infinite bath**.  \n",
    "\n",
    "Alright, so let's think about the problem. "
   ]
  },
  {
   "cell_type": "markdown",
   "metadata": {},
   "source": [
    "#### There are essentially two cases. Two objects and two bodies\n",
    "\n",
    "In one case Ta is constant so we have a linear equation, in other case we have....?"
   ]
  },
  {
   "cell_type": "markdown",
   "metadata": {},
   "source": [
    "## Photo of coffee\n",
    "\n",
    "We want to translate a physical phenomenon into a mathematical (differential) equation. Let's start with an assumption. Let's say that if you have two objects with different temperatures the rate of cooling, i.e. how quickly will the temperature of an object drop is **proportional to the difference** between the obejects. That means that the bigger the difference, the quicker the object will looses its temperature. Notice, the as the process proceeds the difference becomes smaller, thus the rate also decreases.\n",
    "\n",
    "# Make an illustration in power point \n",
    "\n",
    "To visualize the process let's make a silly analogy. Let's say that temperature is like height and the heat energy that is transferred is a kid on sleigh. If there are two objects, the one that is at higher temperature will be a bigger hill. Now the energy is at the top of the hill and is ready to go down the slope. You can easily imagine that the bigger the temperature difference, the steeper the slope and the \"energy kid\" will slide faster. But because we assumed the rate at which the body cools down is proportional to it's difference after a very brief moment the temperature of body A will be lower and of body B higher, thus it is as if the kid started at smaller hill and slope is smaller. "
   ]
  },
  {
   "cell_type": "code",
   "execution_count": null,
   "metadata": {},
   "outputs": [],
   "source": [
    "# Picture"
   ]
  },
  {
   "cell_type": "markdown",
   "metadata": {},
   "source": [
    "$$\\dfrac{\\mathrm{d}T}{\\mathrm{d}x}=-k(T-T_a)$$\n",
    "\n",
    "Solve it by separtion of variables. Steady-state.\n",
    "\n",
    "Derive and use this as and example: https://www.youtube.com/watch?v=jH5qflAe3C8 . Actually, first ask for an example to show why we want to solbe the equation. \n",
    "\n",
    "Newton's law of cooling is based upon a conduction model of heat as thermal energy moves from the interior of the body through the exterior surface "
   ]
  },
  {
   "cell_type": "markdown",
   "metadata": {},
   "source": [
    "If you want to go fundamental you have to relat to thermodynamics or qm."
   ]
  },
  {
   "cell_type": "markdown",
   "metadata": {},
   "source": [
    "And why cooling? Because it is easier to heat something and observe how it cools down."
   ]
  },
  {
   "cell_type": "markdown",
   "metadata": {},
   "source": [
    "https://www.quora.com/Is-Newtons-law-of-cooling-and-the-Stefan%E2%80%93Boltzmann-law-related"
   ]
  }
 ],
 "metadata": {
  "kernelspec": {
   "display_name": "Python 3",
   "language": "python",
   "name": "python3"
  },
  "language_info": {
   "codemirror_mode": {
    "name": "ipython",
    "version": 3
   },
   "file_extension": ".py",
   "mimetype": "text/x-python",
   "name": "python",
   "nbconvert_exporter": "python",
   "pygments_lexer": "ipython3",
   "version": "3.7.0"
  }
 },
 "nbformat": 4,
 "nbformat_minor": 2
}
